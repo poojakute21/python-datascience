{
 "cells": [
  {
   "cell_type": "code",
   "execution_count": 62,
   "metadata": {},
   "outputs": [
    {
     "name": "stdout",
     "output_type": "stream",
     "text": [
      "------------------j------------------\n",
      "----------------j-i-j----------------\n",
      "--------------j-i-h-i-j--------------\n",
      "------------j-i-h-g-h-i-j------------\n",
      "----------j-i-h-g-f-g-h-i-j----------\n",
      "--------j-i-h-g-f-e-f-g-h-i-j--------\n",
      "------j-i-h-g-f-e-d-e-f-g-h-i-j------\n",
      "----j-i-h-g-f-e-d-c-d-e-f-g-h-i-j----\n",
      "--j-i-h-g-f-e-d-c-b-c-d-e-f-g-h-i-j--\n",
      "j-i-h-g-f-e-d-c-b-a-b-c-d-e-f-g-h-i-j\n",
      "--j-i-h-g-f-e-d-c-b-c-d-e-f-g-h-i-j--\n",
      "----j-i-h-g-f-e-d-c-d-e-f-g-h-i-j----\n",
      "------j-i-h-g-f-e-d-e-f-g-h-i-j------\n",
      "--------j-i-h-g-f-e-f-g-h-i-j--------\n",
      "----------j-i-h-g-f-g-h-i-j----------\n",
      "------------j-i-h-g-h-i-j------------\n",
      "--------------j-i-h-i-j--------------\n",
      "----------------j-i-j----------------\n",
      "------------------j------------------\n"
     ]
    }
   ],
   "source": [
    "#print below pattern\n",
    "n = int(10)\n",
    "alphabets = \"abcdefghijklmnopqrstuvwxyz\"\n",
    "\n",
    "data =[]\n",
    "for i in range(n):\n",
    "    data.append(alphabets[i])\n",
    "\n",
    "items = list(range(n))\n",
    "items = items[:-1]+items[::-1]\n",
    "\n",
    "for i in items:\n",
    "    start_index = i+1\n",
    "    original =data[-start_index:]\n",
    "    reverse = original[::-1]\n",
    "    row =  \"-\".join(reverse+original[1:])\n",
    "    column = n*4-3\n",
    "    row = row.center(column, \"-\")\n",
    "    print(row)\n"
   ]
  },
  {
   "cell_type": "code",
   "execution_count": 82,
   "metadata": {},
   "outputs": [
    {
     "name": "stdout",
     "output_type": "stream",
     "text": [
      "True\n"
     ]
    }
   ],
   "source": [
    "#Any number, say n is called an Armstrong number if it is equal to the sum of its digits, where each is raised to the power of number of digits in n.\n",
    "#For example: 153=13+53+33\n",
    "\n",
    "n=int(153)\n",
    "length= len(str(abs(n)))\n",
    "sum = 0\n",
    "temp = n\n",
    "while temp > 0:\n",
    "    digit = temp % 10\n",
    "    sum += digit ** 3\n",
    "    temp //= 10\n",
    "    \n",
    "if(sum == n):\n",
    "    print('True')\n",
    "else:\n",
    "    print('False')"
   ]
  },
  {
   "cell_type": "code",
   "execution_count": 86,
   "metadata": {},
   "outputs": [
    {
     "name": "stdout",
     "output_type": "stream",
     "text": [
      "0\n",
      "1\n",
      "1\n",
      "2\n",
      "3\n"
     ]
    }
   ],
   "source": [
    "#Compute and display Fibonacci series upto n terms where n is a positive integer entered by the user.\n",
    "n=int(5)\n",
    "count = 0\n",
    "num1, num2 = 0,1\n",
    "while count < n::\n",
    "    print(num1)\n",
    "    final_num = num1 + num2\n",
    "    num1 = num2\n",
    "    num2 = final_num\n",
    "    count = count+1"
   ]
  },
  {
   "cell_type": "code",
   "execution_count": 124,
   "metadata": {},
   "outputs": [
    {
     "name": "stdout",
     "output_type": "stream",
     "text": [
      "17\n"
     ]
    }
   ],
   "source": [
    "#Write python code to find the sum of prime numbers from 2 to n where n is a positive integer entered by the user.\n",
    "n = int(10)\n",
    "sum = 2\n",
    "for num in range(2, n + 1):\n",
    "    i = 2\n",
    "    for i in range(2, num):\n",
    "        if (int(num % i) == 0):\n",
    "            i = num\n",
    "            break;\n",
    "    if i is not num:\n",
    "        sum += num\n",
    "\n",
    "print(sum)"
   ]
  },
  {
   "cell_type": "code",
   "execution_count": 1,
   "metadata": {},
   "outputs": [
    {
     "name": "stdout",
     "output_type": "stream",
     "text": [
      "17\n"
     ]
    }
   ],
   "source": [
    "#Sanjay had m rupees and cost of each chocolate was c rupees. Shopkeeper gave away one chocolate for three wrappers. In this problem lets generalise the question saying, Sanjay has m rupees, each chocolate costs c rupees, shopkeeper will give away k chocolates for w wrappers. Can you find now how many chocolates Sanjay will be able to eat\n",
    "n = \"15, 2, 3, 2\"\n",
    "number = n.split(',')\n",
    "m = int(number[0]) #15\n",
    "c = int(number[1]) #2\n",
    "w = int(number[2]) #3\n",
    "k = int(number[3]) #1\n",
    "\n",
    "chocolates = m//c\n",
    "wrapper = m//c\n",
    "\n",
    "while(wrapper// w !=0):\n",
    "    chocolates = chocolates + (wrapper//w)*k\n",
    "    wrapper = (wrapper//w)*k + (wrapper%w) \n",
    "print(chocolates)"
   ]
  },
  {
   "cell_type": "code",
   "execution_count": 2,
   "metadata": {},
   "outputs": [
    {
     "name": "stdout",
     "output_type": "stream",
     "text": [
      "Possible\n"
     ]
    }
   ],
   "source": [
    "#You are given a row of Lego Blocks consisting of n blocks. All the blocks given have a square base whose side length is known. You need to stack the blocks over each other and create a vertical tower. Block-1 can go over Block-2 only if sideLength(Block-2)=>sideLength(Block-1).\n",
    "#From the row of Lego blocks, you can only pick up either the leftmost or rightmost block.\n",
    "#Print \"Possible\" if it is possible to stack all n cubes this way or else print \"Impossible\".\n",
    "sides = [5 ,4, 2, 1, 4 ,5]\n",
    "n = len(sides)\n",
    "my_stack = []\n",
    "i = 0\n",
    "\n",
    "while(i < n):\n",
    "    if sides[i] >= sides[n-1]:\n",
    "        my_stack.append(sides[i])\n",
    "        i = i+1\n",
    "    else:\n",
    "        my_stack.append(sides[n-1])\n",
    "        n = n - 1\n",
    "\n",
    "flag = 0\n",
    "i = 1\n",
    "while i < len(my_stack): \n",
    "    if(my_stack[i] > my_stack[i - 1]): \n",
    "        flag = 1\n",
    "    i += 1\n",
    "      \n",
    "if (not flag) : \n",
    "    print (\"Possible\") \n",
    "else : \n",
    "    print (\"Impossible\") \n"
   ]
  },
  {
   "cell_type": "code",
   "execution_count": 3,
   "metadata": {},
   "outputs": [
    {
     "name": "stdout",
     "output_type": "stream",
     "text": [
      "       1 \n",
      "      1 1 \n",
      "     1 2 1 \n",
      "    1 3 3 1 \n",
      "   1 4 6 4 1 \n",
      "  1 5 10 10 5 1 \n"
     ]
    }
   ],
   "source": [
    "#A pascal's triangle is a very interesting mathematical concept.\n",
    "from math import factorial\n",
    "n = 6\n",
    "for i in range(n):\n",
    "    for j in range(n-i + 1):\n",
    "        print(end=\" \")\n",
    "    \n",
    "    for j in range(i+1):\n",
    "        # nCr = n!/((n-r)!*r!)\n",
    "        print(factorial(i)//(factorial(j)*factorial(i-j)), end=\" \")\n",
    "        \n",
    "    print()"
   ]
  },
  {
   "cell_type": "code",
   "execution_count": 4,
   "metadata": {},
   "outputs": [
    {
     "name": "stdout",
     "output_type": "stream",
     "text": [
      "[1, 5, 10, 10, 5, 1]\n"
     ]
    }
   ],
   "source": [
    "#A pascal's triangle is a very interesting mathematical concept.The output will contain 1 line of the list of numbers\n",
    "#representing the nth row of Pascal's triangle.\n",
    "from math import factorial\n",
    "n=6\n",
    "n = n - 1\n",
    "line = [1]\n",
    "\n",
    "for k in range(max(n ,0)):\n",
    "    line.append(int(line[k]*(n-k)/(k+1)))\n",
    "\n",
    "print(line)\n"
   ]
  },
  {
   "cell_type": "code",
   "execution_count": 5,
   "metadata": {},
   "outputs": [
    {
     "name": "stdout",
     "output_type": "stream",
     "text": [
      "[1, 2, 3]\n",
      "[4, 5, 6]\n",
      "[7, 8, 9]\n"
     ]
    }
   ],
   "source": [
    "#Write a Python program to divide a given list into chunks of size k.\n",
    "import ast\n",
    "input_list = [[1,2,3,4,5,6,7,8,9],3]\n",
    "lis=input_list[0]\n",
    "k=input_list[1]\n",
    "\n",
    "for i in range((len(lis)+ k-1) // k):\n",
    "    print(lis[i*k:(i+1) *k], end =\"\\n\")"
   ]
  },
  {
   "cell_type": "code",
   "execution_count": 7,
   "metadata": {},
   "outputs": [
    {
     "name": "stdout",
     "output_type": "stream",
     "text": [
      "8\n"
     ]
    }
   ],
   "source": [
    "#Given a list of numbers, find the second largest number in the list.\n",
    "#Note: There might be repeated numbers in the list. If there is only one number present in the list, return 'not present'.\n",
    "\n",
    "input_list = [7, 2, 0, 9, -1, 8]\n",
    "my_list =[]\n",
    "# Write your code here\n",
    "input_list2 = list(set(input_list))\n",
    "if len(input_list2)== 1:\n",
    "    print('not present')\n",
    "else:\n",
    "    for i in input_list2:\n",
    "        if i not in my_list:\n",
    "            my_list.append(i)\n",
    "    print(sorted(my_list)[-2])"
   ]
  },
  {
   "cell_type": "code",
   "execution_count": 8,
   "metadata": {},
   "outputs": [
    {
     "name": "stdout",
     "output_type": "stream",
     "text": [
      "555555555\n",
      "544444445\n",
      "543333345\n",
      "543222345\n",
      "543212345\n",
      "543222345\n",
      "543333345\n",
      "544444445\n",
      "555555555\n"
     ]
    }
   ],
   "source": [
    "#Given a positive integer n. Print the pattern as shown in sample outputs.\n",
    "n =5\n",
    "MAX =100\n",
    "\n",
    "size = 2 * n - 1\n",
    "front = 0\n",
    "back = size - 1\n",
    "a = [[0 for i in range(MAX)] \n",
    "        for i in range(MAX)]\n",
    "while (n != 0): \n",
    "    for i in range(front, back + 1):\n",
    "        for j in range(front, back + 1):\n",
    "            if (i == front or i == back or\n",
    "                j == front or j == back):\n",
    "                a[i][j] = n\n",
    "    front += 1\n",
    "    back -= 1\n",
    "    n -= 1\n",
    "    \n",
    "for i in range(size): \n",
    "    for j in range(size):\n",
    "        print(a[i][j], end = '')\n",
    "    print()\n",
    "    "
   ]
  },
  {
   "cell_type": "code",
   "execution_count": 158,
   "metadata": {},
   "outputs": [
    {
     "name": "stdout",
     "output_type": "stream",
     "text": [
      "e\n"
     ]
    }
   ],
   "source": [
    "#Given two strings, one of the strings will contain an extra character. Find the extra character.\n",
    "#The number of all the other characters in both the strings will be the same. Check the sample input/output for more\n",
    "#clarification.\n",
    "\n",
    "string1 = 'abcd'\n",
    "string2 = 'cedab'\n",
    "\n",
    "if(len(string1) > len(string2)):\n",
    "    string_in1 = string1\n",
    "    string_in2 = string2\n",
    "else:\n",
    "    string_in1 = string2\n",
    "    string_in2 = string1\n",
    "\n",
    "for i in string_in1:\n",
    "    if(i not in string_in2):\n",
    "        print(i)"
   ]
  },
  {
   "cell_type": "code",
   "execution_count": 9,
   "metadata": {},
   "outputs": [
    {
     "name": "stdout",
     "output_type": "stream",
     "text": [
      "INT\n"
     ]
    }
   ],
   "source": [
    "#INT if the input string is an integer and STR otherwise.\n",
    "in_str ='14'\n",
    "\n",
    "if in_str.isnumeric():\n",
    "    print('INT')\n",
    "else:\n",
    "    print('STR')\n"
   ]
  },
  {
   "cell_type": "code",
   "execution_count": 10,
   "metadata": {},
   "outputs": [
    {
     "name": "stdout",
     "output_type": "stream",
     "text": [
      "3213\n"
     ]
    }
   ],
   "source": [
    "#While extracting data from different sources, often numeric values come in string format and with commas \n",
    "#like 1,000 or 23,321 and also sometimes with spaces in start and beginning of the string. \n",
    "#For simplicity, we will consider only integer values imbedded with commas. You will take the input and \n",
    "#print the cleaned integer without commas and spaces.\n",
    "value='         3,213      '  \n",
    "value = value.strip()\n",
    "spl1 = value.split(',')\n",
    "result = int(''.join(spl1))\n",
    "print(result)\n"
   ]
  },
  {
   "cell_type": "code",
   "execution_count": 11,
   "metadata": {},
   "outputs": [
    {
     "name": "stdout",
     "output_type": "stream",
     "text": [
      "utgtgt\n"
     ]
    }
   ],
   "source": [
    "#The first element will be a string consisting of only alphabets which is taken from the diary and the second element will be the step size.\n",
    "#Output:A string denoting the password\n",
    "input =['banana', 7]\n",
    "password = input[0]\n",
    "count = input[1]\n",
    "final_pass = \"\"\n",
    "list1=[]\n",
    "for i in password:\n",
    "    ch = i\n",
    "    base = ord('a' if ch.islower() else 'A')\n",
    "    x = chr((ord(ch) - base - count) % 26 + base)\n",
    "    list1.append(x)\n",
    "\n",
    "print(\"\".join(list1))"
   ]
  },
  {
   "cell_type": "code",
   "execution_count": 13,
   "metadata": {},
   "outputs": [
    {
     "name": "stdout",
     "output_type": "stream",
     "text": [
      "369\n"
     ]
    }
   ],
   "source": [
    "#Write a program that computes the value of n+nn+nnn+nnnn+... nn...n ntimes with a given number as the value of n.\n",
    "\n",
    "n= 3\n",
    "change = n\n",
    "s = 0\n",
    "for i in range(n):\n",
    "    s += change\n",
    "    change = change * 10 + n\n",
    "print(s)"
   ]
  },
  {
   "cell_type": "code",
   "execution_count": 168,
   "metadata": {},
   "outputs": [
    {
     "name": "stdout",
     "output_type": "stream",
     "text": [
      "file: 50\n"
     ]
    }
   ],
   "source": [
    "#You will be given a dictionary with keys as items and values as their prices. You have to print the cheapest item\n",
    "d = {'laptop': 30000, 'file': 50}\n",
    "key_list = list(d.keys())\n",
    "val_list = list(d.values())\n",
    "cheapest_val = min(d.values())\n",
    "position = val_list.index(cheapest_val)\n",
    "cheapest_item_name = key_list[position]\n",
    "\n",
    "cheapest_item_cost =str(cheapest_val)\n",
    "print(cheapest_item_name +': '+cheapest_item_cost)\n"
   ]
  },
  {
   "cell_type": "code",
   "execution_count": 173,
   "metadata": {},
   "outputs": [
    {
     "name": "stdout",
     "output_type": "stream",
     "text": [
      "8\n"
     ]
    }
   ],
   "source": [
    "#You will be given a list of repeated elements. You have to find the maximum distance between two same elements. The answer will be zero if there are no repeated elements.\n",
    "input_arr = [1, 2, 3, 2, 5, 1, 2, 4, 6, 2, 7, 8, 6]\n",
    "length = len(input_arr)\n",
    "mp ={}\n",
    "maxDict =0\n",
    "for i in range(length):\n",
    "    if input_arr[i] not in mp.keys():\n",
    "        mp[input_arr[i]] = i\n",
    "    else:\n",
    "        maxDict = max(maxDict, i-mp[input_arr[i]])\n",
    "            \n",
    "print(maxDict)"
   ]
  },
  {
   "cell_type": "code",
   "execution_count": 184,
   "metadata": {},
   "outputs": [
    {
     "name": "stdout",
     "output_type": "stream",
     "text": [
      "NOTA\n"
     ]
    }
   ],
   "source": [
    "#Your team is going for camping and you are taking a vote to decide what food to pack for dinner.\n",
    "#Everyone gets a vote and the food item that gets at least one more than half of the votes wins. None of the items wins if nothing gets at least one more than half votes. Assume that every person gets only one vote.\n",
    "#The input will contain a list of food items where each occurrence of an item represents one vote. You should print the winning food item as output. If there is no clear winner, print \"NOTA\". \n",
    "\n",
    "votes =[\"pasta\",\"pizza\",\"pasta\",\"paratha\",\"paratha\",\"paratha\"]\n",
    "num_of_votes = len(votes)\n",
    "d = {}\n",
    "for i in votes:\n",
    "    if i not in d:\n",
    "        d[i]=1\n",
    "    else:\n",
    "        d[i] = d[i]+1\n",
    "winner = False\n",
    "for val in d:\n",
    "    if d[val]>num_of_votes//2:\n",
    "        print(val)\n",
    "        winner=True\n",
    "        break\n",
    "if not winner:\n",
    "    print(\"NOTA\")"
   ]
  },
  {
   "cell_type": "code",
   "execution_count": 185,
   "metadata": {},
   "outputs": [
    {
     "name": "stdout",
     "output_type": "stream",
     "text": [
      "['Fruit', 'Spices', 'Vegetable_Cabbage', 'Vegetable_Cauliflower']\n",
      "[1, 2, 3, 4]\n"
     ]
    }
   ],
   "source": [
    "#Consider a nested dictionary as follows:\n",
    "#{'Fruit': 1, 'Vegetable': {'Cabbage': 2, 'Cauliflower': 3}, 'Spices': 4}\n",
    "#Your task is to flatten a nested dictionary and join the nested keys with the \"_\" character. For the above dictionary, the flattened dictionary would be as follows:\n",
    "#{'Fruit': 1, 'Vegetable_Cabbage': 2, 'Vegetable_Cauliflower': 3, 'Spices': 4}\n",
    "import ast,sys\n",
    "input_str = sys.stdin.read()\n",
    "input_dict = {'Fruit': 1, 'Vegetable': {'Cabbage': 2, 'Cauliflower': 3}, 'Spices': 4}\n",
    "def flatten_dict(dd, separator='_', prefix=''):\n",
    "    return { prefix + separator + k if prefix else k : v\n",
    "             for kk, vv in dd.items()\n",
    "             for k, v in flatten_dict(vv, separator, kk).items()\n",
    "             } if isinstance(dd, dict) else { prefix : dd }\n",
    "          \n",
    "\n",
    "out1=list(flatten_dict(input_dict).keys())\n",
    "out2=list(flatten_dict(input_dict).values())\n",
    "out1.sort()\n",
    "out2.sort()\n",
    "print(out1)\n",
    "print(out2)"
   ]
  },
  {
   "cell_type": "code",
   "execution_count": null,
   "metadata": {},
   "outputs": [],
   "source": []
  }
 ],
 "metadata": {
  "kernelspec": {
   "display_name": "Python 3",
   "language": "python",
   "name": "python3"
  },
  "language_info": {
   "codemirror_mode": {
    "name": "ipython",
    "version": 3
   },
   "file_extension": ".py",
   "mimetype": "text/x-python",
   "name": "python",
   "nbconvert_exporter": "python",
   "pygments_lexer": "ipython3",
   "version": "3.8.5"
  }
 },
 "nbformat": 4,
 "nbformat_minor": 4
}
