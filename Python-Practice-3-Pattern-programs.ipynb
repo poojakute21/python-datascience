{
 "cells": [
  {
   "cell_type": "code",
   "execution_count": 1,
   "metadata": {},
   "outputs": [
    {
     "name": "stdout",
     "output_type": "stream",
     "text": [
      "\n",
      "1\n",
      "22\n",
      "333\n",
      "4444\n",
      "55555\n"
     ]
    }
   ],
   "source": [
    "rows = 5\n",
    "for i in range(rows+1):\n",
    "    for j in range(i):\n",
    "        print(i, end=\"\")\n",
    "    print()"
   ]
  },
  {
   "cell_type": "code",
   "execution_count": 5,
   "metadata": {},
   "outputs": [
    {
     "name": "stdout",
     "output_type": "stream",
     "text": [
      "1\n",
      "12\n",
      "123\n",
      "1234\n",
      "12345\n"
     ]
    }
   ],
   "source": [
    "rows = 5\n",
    "for i in range(1,rows+1):\n",
    "    for j in range(1, i+1):\n",
    "        print(j, end=\"\")\n",
    "    print()"
   ]
  },
  {
   "cell_type": "code",
   "execution_count": 6,
   "metadata": {},
   "outputs": [
    {
     "name": "stdout",
     "output_type": "stream",
     "text": [
      "\n",
      "*\n",
      "**\n",
      "***\n",
      "****\n",
      "*****\n"
     ]
    }
   ],
   "source": [
    "rows = 6\n",
    "for i in range(rows):\n",
    "    for j in range(i):\n",
    "        print('*',end=\"\")\n",
    "    print()"
   ]
  },
  {
   "cell_type": "code",
   "execution_count": 7,
   "metadata": {},
   "outputs": [
    {
     "name": "stdout",
     "output_type": "stream",
     "text": [
      "111111\r\n",
      "22222\r\n",
      "3333\r\n",
      "444\r\n",
      "55\r\n",
      "6\r\n"
     ]
    }
   ],
   "source": [
    "rows = 6\n",
    "b =0\n",
    "for i in range(rows,0,-1):\n",
    "    b+=1\n",
    "    for j in range(1, i+1):\n",
    "        print(b, end=\"\")\n",
    "    print('\\r')"
   ]
  },
  {
   "cell_type": "code",
   "execution_count": 11,
   "metadata": {},
   "outputs": [
    {
     "name": "stdout",
     "output_type": "stream",
     "text": [
      "666666\r\n",
      "55555\r\n",
      "4444\r\n",
      "333\r\n",
      "22\r\n",
      "1\r\n"
     ]
    }
   ],
   "source": [
    "rows = 6\n",
    "b =0\n",
    "for i in range(rows,0,-1):\n",
    "    b= i\n",
    "    for j in range(0, i):\n",
    "        print(b, end=\"\")\n",
    "    print('\\r')"
   ]
  },
  {
   "cell_type": "code",
   "execution_count": 12,
   "metadata": {},
   "outputs": [
    {
     "name": "stdout",
     "output_type": "stream",
     "text": [
      "55555\n",
      "5555\n",
      "555\n",
      "55\n",
      "5\n"
     ]
    }
   ],
   "source": [
    "\n",
    "rows =5\n",
    "for i in range(rows, 0,-1):\n",
    "    for j in range(0,i):\n",
    "        print(rows, end=\"\")\n",
    "    print()"
   ]
  },
  {
   "cell_type": "code",
   "execution_count": 21,
   "metadata": {},
   "outputs": [
    {
     "name": "stdout",
     "output_type": "stream",
     "text": [
      "012345\n",
      "01234\n",
      "0123\n",
      "012\n",
      "01\n"
     ]
    }
   ],
   "source": [
    "rows = 5\n",
    "for i in range(rows,0,-1):\n",
    "    for j in range(0, i+1):\n",
    "        print(j, end=\"\")\n",
    "    print()"
   ]
  },
  {
   "cell_type": "code",
   "execution_count": 25,
   "metadata": {},
   "outputs": [
    {
     "name": "stdout",
     "output_type": "stream",
     "text": [
      "1\n",
      "23\n",
      "456\n",
      "78910\n",
      "1112131415\n"
     ]
    }
   ],
   "source": [
    "rows = 5\n",
    "current_num = 1\n",
    "stop_num = 2\n",
    "for i in range(rows):\n",
    "    for j in range(1, stop_num):\n",
    "        print(current_num, end=\"\")\n",
    "        current_num+=1\n",
    "    print()\n",
    "    stop_num+=1"
   ]
  },
  {
   "cell_type": "code",
   "execution_count": 35,
   "metadata": {},
   "outputs": [
    {
     "name": "stdout",
     "output_type": "stream",
     "text": [
      "1\n",
      "32\n",
      "654\n",
      "10987\n"
     ]
    }
   ],
   "source": [
    "rows = 5\n",
    "start_num = 1\n",
    "stop_num = 2\n",
    "current_num=2\n",
    "for i in range(2,6):\n",
    "    for j in range(start_num, stop_num):\n",
    "        current_num-=1\n",
    "        print(current_num, end=\"\")\n",
    "    print()\n",
    "    \n",
    "    start_num = stop_num\n",
    "    stop_num+=i\n",
    "    current_num =stop_num"
   ]
  },
  {
   "cell_type": "code",
   "execution_count": 42,
   "metadata": {},
   "outputs": [
    {
     "name": "stdout",
     "output_type": "stream",
     "text": [
      "\n",
      "1\n",
      "121\n",
      "12321\n",
      "1234321\n",
      "123454321\n"
     ]
    }
   ],
   "source": [
    "\n",
    "\n",
    "\n",
    "\n",
    "\n",
    "\n",
    "rows = 6\n",
    "for i in range(1, rows+1):\n",
    "    for j in range(1, i-1):\n",
    "        print(j, end=\"\")\n",
    "    for j in range(i-1, 0, -1):\n",
    "        print(j, end=\"\")\n",
    "    print()"
   ]
  },
  {
   "cell_type": "code",
   "execution_count": 49,
   "metadata": {},
   "outputs": [
    {
     "name": "stdout",
     "output_type": "stream",
     "text": [
      "*******\r\n",
      "******\r\n",
      "*****\r\n",
      "****\r\n",
      "***\r\n"
     ]
    }
   ],
   "source": [
    "n = 5\n",
    "k = 2*n-2\n",
    "for i in range(0,n):\n",
    "    for j in range(0,k):\n",
    "        print(end=\"\")\n",
    "    k=k-1\n",
    "    for j in range(0,k):\n",
    "        print(\"*\",end=\"\")\n",
    "    print(\"\\r\")"
   ]
  },
  {
   "cell_type": "code",
   "execution_count": 51,
   "metadata": {},
   "outputs": [
    {
     "name": "stdout",
     "output_type": "stream",
     "text": [
      "        * \r\n",
      "       * * \r\n",
      "      * * * \r\n",
      "     * * * * \r\n",
      "    * * * * * \r\n"
     ]
    }
   ],
   "source": [
    "n = 5\n",
    "k = 2*n-2\n",
    "for i in range(0,n):\n",
    "    for j in range(0,k):\n",
    "        print(end=\" \")\n",
    "    k=k-1\n",
    "    for j in range(0,i+1):\n",
    "        print(\"*\",end=\" \")\n",
    "    print(\"\\r\")"
   ]
  },
  {
   "cell_type": "code",
   "execution_count": 84,
   "metadata": {},
   "outputs": [
    {
     "name": "stdout",
     "output_type": "stream",
     "text": [
      "* \r\n",
      "* * \r\n",
      "* * * \r\n",
      "* * * * \r\n",
      "* * * * * \r\n"
     ]
    }
   ],
   "source": [
    "n = 5\n",
    "k = 2*n-2\n",
    "for i in range(0,n):\n",
    "    for j in range(0,k):\n",
    "        print(end=\"\")\n",
    "    k=k-1\n",
    "    for j in range(0,i+1):\n",
    "        print(\"*\",end=\" \")\n",
    "    print(\"\\r\")\n",
    " "
   ]
  },
  {
   "cell_type": "code",
   "execution_count": 85,
   "metadata": {},
   "outputs": [
    {
     "name": "stdout",
     "output_type": "stream",
     "text": [
      "* * * * * * \r\n",
      "* * * * * \r\n",
      "* * * * \r\n",
      "* * * \r\n",
      "* * \r\n",
      "* \r\n"
     ]
    }
   ],
   "source": [
    "n = 5\n",
    "k = 2*n-2\n",
    "for i in range(n,-1,-1):\n",
    "    for j in range(0,i+1):\n",
    "         print(\"* \", end=\"\")\n",
    "    print(\"\\r\")"
   ]
  },
  {
   "cell_type": "code",
   "execution_count": 81,
   "metadata": {},
   "outputs": [
    {
     "name": "stdout",
     "output_type": "stream",
     "text": [
      "        * \r\n",
      "      * * \r\n",
      "    * * * \r\n",
      "  * * * * \r\n",
      "* * * * * \r\n"
     ]
    }
   ],
   "source": [
    "n = 5\n",
    "k = 2*n-2\n",
    "for i in range(0,n):\n",
    "    for j in range(0,k):\n",
    "        print(end=\" \")\n",
    "    k=k-2\n",
    "    for j in range(0,i+1):\n",
    "        print(\"* \",end=\"\")\n",
    "    print(\"\\r\")"
   ]
  },
  {
   "cell_type": "code",
   "execution_count": 57,
   "metadata": {},
   "outputs": [
    {
     "name": "stdout",
     "output_type": "stream",
     "text": [
      "        * * * * * * \r\n",
      "         * * * * * \r\n",
      "          * * * * \r\n",
      "           * * * \r\n",
      "            * * \r\n",
      "             * \r\n"
     ]
    }
   ],
   "source": [
    "n = 5\n",
    "k = 2*n-2\n",
    "for i in range(n, -1,-1):\n",
    "    for j in range(k,0,-1):\n",
    "        print(end=\" \")\n",
    "    k=k+1\n",
    "    for j in range(0,i+1):\n",
    "        print(\"*\",end=\" \")\n",
    "    print(\"\\r\")"
   ]
  },
  {
   "cell_type": "code",
   "execution_count": 70,
   "metadata": {},
   "outputs": [
    {
     "name": "stdout",
     "output_type": "stream",
     "text": [
      "* \r\n",
      "* * \r\n",
      "* * * \r\n",
      "* * * * \r\n",
      "* * * * * \r\n",
      "* * * * * * \r\n",
      "* * * * * * * \r\n",
      "* * * * * * \r\n",
      "* * * * * \r\n",
      "* * * * \r\n",
      "* * * \r\n",
      "* * \r\n",
      "* \r\n"
     ]
    }
   ],
   "source": [
    "n=6\n",
    "k = 2*n-2\n",
    "for i in range(0, n):\n",
    "    for j in range(0, i + 1):\n",
    "        print(\"* \", end=\"\")\n",
    "    print(\"\\r\")\n",
    "for i in range(n, -1 ,-1):\n",
    "    for j in range(0, i + 1):\n",
    "        print(\"* \", end=\"\")\n",
    "    print(\"\\r\")"
   ]
  },
  {
   "cell_type": "code",
   "execution_count": 73,
   "metadata": {},
   "outputs": [
    {
     "name": "stdout",
     "output_type": "stream",
     "text": [
      "          * \r\n",
      "        * * \r\n",
      "      * * * \r\n",
      "    * * * * \r\n",
      "  * * * * * \r\n",
      "* * * * * * \r\n",
      "  * * * * * \r\n",
      "    * * * * \r\n",
      "      * * * \r\n",
      "        * * \r\n",
      "          * \r\n"
     ]
    }
   ],
   "source": [
    "n=6\n",
    "k = 2*n-2\n",
    "for i in range(0, n-1):\n",
    "    for j in range(0, k):\n",
    "        print(end=\" \")\n",
    "    k = k - 2\n",
    "    for j in range(0, i + 1):\n",
    "        print(\"* \", end=\"\")\n",
    "    print(\"\\r\")\n",
    "k = -1\n",
    "for i in range(n-1,-1,-1):\n",
    "    for j in range(k,-1,-1):\n",
    "        print(end=\" \")\n",
    "    k = k + 2\n",
    "    for j in range(0, i + 1):\n",
    "        print(\"* \", end=\"\")\n",
    "    print(\"\\r\")"
   ]
  },
  {
   "cell_type": "code",
   "execution_count": 78,
   "metadata": {},
   "outputs": [
    {
     "name": "stdout",
     "output_type": "stream",
     "text": [
      "    * * * * * * * \r\n",
      "     * * * * * * \r\n",
      "      * * * * * \r\n",
      "       * * * * \r\n",
      "        * * * \r\n",
      "         * * \r\n",
      "          * \r\n",
      "          * \r\n",
      "         * * \r\n",
      "        * * * \r\n",
      "       * * * * \r\n",
      "      * * * * * \r\n",
      "     * * * * * * \r\n",
      "    * * * * * * * \r\n"
     ]
    }
   ],
   "source": [
    "n=6\n",
    "k = n-2\n",
    "for i in range(n, -1,-1):\n",
    "    for j in range(k,0,-1):\n",
    "        print(end=\" \")\n",
    "    k=k+1\n",
    "    for j in range(0,i+1):\n",
    "        print(\"*\",end=\" \")\n",
    "    print(\"\\r\")\n",
    "k=2*n-2\n",
    "for i in range(0,n+1):\n",
    "    for j in range(0,k):\n",
    "        print(end=\" \")\n",
    "    k=k-1\n",
    "    for j in range(0,i+1):\n",
    "        print(\"*\",end=\" \")\n",
    "    print(\"\\r\")"
   ]
  },
  {
   "cell_type": "code",
   "execution_count": 91,
   "metadata": {},
   "outputs": [
    {
     "name": "stdout",
     "output_type": "stream",
     "text": [
      "          * \r\n",
      "         * * \r\n",
      "        * * * \r\n",
      "       * * * * \r\n",
      "      * * * * * \r\n",
      "     * * * * * * \r\n",
      "    * * * * * * * \r\n",
      "     * * * * * * \r\n",
      "      * * * * * \r\n",
      "       * * * * \r\n",
      "        * * * \r\n",
      "         * * \r\n",
      "          * \r\n"
     ]
    }
   ],
   "source": [
    "n=6\n",
    "k =2*n-2\n",
    "for i in range(0,n):\n",
    "    for j in range(0,k):\n",
    "        print(end=\" \")\n",
    "    k=k-1\n",
    "    for j in range(0,i+1):\n",
    "        print(\"* \",end=\"\")\n",
    "    print(\"\\r\")\n",
    "k=n-2\n",
    "for i in range(n,-1,-1):\n",
    "    for j in range(k,0,-1):\n",
    "        print(end=\" \")\n",
    "    k=k+1\n",
    "    for j in range(0,i+1):\n",
    "        print(\"* \",end=\"\")\n",
    "    print(\"\\r\")"
   ]
  },
  {
   "cell_type": "code",
   "execution_count": 93,
   "metadata": {},
   "outputs": [
    {
     "name": "stdout",
     "output_type": "stream",
     "text": [
      "  *  \n",
      " * * \n",
      "*   *\n",
      " * * \n",
      "  *  \n"
     ]
    }
   ],
   "source": [
    "n=5\n",
    "for i in range(n):\n",
    "    for j in range(n):\n",
    "        if i + j == 2 or i - j == 2 or i + j == 6 or j - i == 2:\n",
    "            print(\"*\", end=\"\")\n",
    "        else:\n",
    "            print(end=\" \")\n",
    "    print()"
   ]
  },
  {
   "cell_type": "code",
   "execution_count": 94,
   "metadata": {},
   "outputs": [
    {
     "name": "stdout",
     "output_type": "stream",
     "text": [
      "------------------j------------------\n",
      "----------------j-i-j----------------\n",
      "--------------j-i-h-i-j--------------\n",
      "------------j-i-h-g-h-i-j------------\n",
      "----------j-i-h-g-f-g-h-i-j----------\n",
      "--------j-i-h-g-f-e-f-g-h-i-j--------\n",
      "------j-i-h-g-f-e-d-e-f-g-h-i-j------\n",
      "----j-i-h-g-f-e-d-c-d-e-f-g-h-i-j----\n",
      "--j-i-h-g-f-e-d-c-b-c-d-e-f-g-h-i-j--\n",
      "j-i-h-g-f-e-d-c-b-a-b-c-d-e-f-g-h-i-j\n",
      "--j-i-h-g-f-e-d-c-b-c-d-e-f-g-h-i-j--\n",
      "----j-i-h-g-f-e-d-c-d-e-f-g-h-i-j----\n",
      "------j-i-h-g-f-e-d-e-f-g-h-i-j------\n",
      "--------j-i-h-g-f-e-f-g-h-i-j--------\n",
      "----------j-i-h-g-f-g-h-i-j----------\n",
      "------------j-i-h-g-h-i-j------------\n",
      "--------------j-i-h-i-j--------------\n",
      "----------------j-i-j----------------\n",
      "------------------j------------------\n"
     ]
    }
   ],
   "source": [
    "n = int(10)\n",
    "alphabets = \"abcdefghijklmnopqrstuvwxyz\"\n",
    "\n",
    "data =[]\n",
    "for i in range(n):\n",
    "    data.append(alphabets[i])\n",
    "\n",
    "items = list(range(n))\n",
    "items = items[:-1]+items[::-1]\n",
    "\n",
    "for i in items:\n",
    "    start_index = i+1\n",
    "    original =data[-start_index:]\n",
    "    reverse = original[::-1]\n",
    "    row =  \"-\".join(reverse+original[1:])\n",
    "    column = n*4-3\n",
    "    row = row.center(column, \"-\")\n",
    "    print(row)\n"
   ]
  },
  {
   "cell_type": "code",
   "execution_count": 99,
   "metadata": {},
   "outputs": [
    {
     "name": "stdout",
     "output_type": "stream",
     "text": [
      "1\r\n",
      "22\r\n",
      "333\r\n",
      "4444\r\n",
      "55555\r\n",
      "666666\r\n",
      "7777777\r\n",
      "666666\r\n",
      "55555\r\n",
      "4444\r\n",
      "333\r\n",
      "22\r\n",
      "1\r\n"
     ]
    }
   ],
   "source": [
    "n=6\n",
    "k =2*n-2\n",
    "x=0\n",
    "for i in range(0,n):\n",
    "    x=x+1\n",
    "    for j in range(0,k):\n",
    "        print(end=\"\")\n",
    "    k=k-1\n",
    "    for j in range(0,i+1):\n",
    "        print(x,end=\"\")\n",
    "    print(\"\\r\")\n",
    "k=n-2\n",
    "x=n+2\n",
    "for i in range(n,-1,-1):\n",
    "    x-=1\n",
    "    for j in range(k,0,-1):\n",
    "        print(end=\"\")\n",
    "    k=k+1\n",
    "    for j in range(0,i+1):\n",
    "        print(x,end=\"\")\n",
    "    print(\"\\r\")"
   ]
  },
  {
   "cell_type": "code",
   "execution_count": 100,
   "metadata": {},
   "outputs": [
    {
     "name": "stdout",
     "output_type": "stream",
     "text": [
      "          1\r\n",
      "         22\r\n",
      "        333\r\n",
      "       4444\r\n",
      "      55555\r\n",
      "     666666\r\n",
      "    7777777\r\n",
      "     666666\r\n",
      "      55555\r\n",
      "       4444\r\n",
      "        333\r\n",
      "         22\r\n",
      "          1\r\n"
     ]
    }
   ],
   "source": [
    "n=6\n",
    "k =2*n-2\n",
    "x=0\n",
    "for i in range(0,n):\n",
    "    x=x+1\n",
    "    for j in range(0,k):\n",
    "        print(end=\" \")\n",
    "    k=k-1\n",
    "    for j in range(0,i+1):\n",
    "        print(x,end=\"\")\n",
    "    print(\"\\r\")\n",
    "k=n-2\n",
    "x=n+2\n",
    "for i in range(n,-1,-1):\n",
    "    x-=1\n",
    "    for j in range(k,0,-1):\n",
    "        print(end=\" \")\n",
    "    k=k+1\n",
    "    for j in range(0,i+1):\n",
    "        print(x,end=\"\")\n",
    "    print(\"\\r\")"
   ]
  },
  {
   "cell_type": "code",
   "execution_count": 101,
   "metadata": {},
   "outputs": [
    {
     "name": "stdout",
     "output_type": "stream",
     "text": [
      "          1 \r\n",
      "         2 2 \r\n",
      "        3 3 3 \r\n",
      "       4 4 4 4 \r\n",
      "      5 5 5 5 5 \r\n",
      "     6 6 6 6 6 6 \r\n",
      "    7 7 7 7 7 7 7 \r\n",
      "     6 6 6 6 6 6 \r\n",
      "      5 5 5 5 5 \r\n",
      "       4 4 4 4 \r\n",
      "        3 3 3 \r\n",
      "         2 2 \r\n",
      "          1 \r\n"
     ]
    }
   ],
   "source": [
    "n=6\n",
    "k =2*n-2\n",
    "x=0\n",
    "for i in range(0,n):\n",
    "    x=x+1\n",
    "    for j in range(0,k):\n",
    "        print(end=\" \")\n",
    "    k=k-1\n",
    "    for j in range(0,i+1):\n",
    "        print(x,end=\" \")\n",
    "    print(\"\\r\")\n",
    "k=n-2\n",
    "x=n+2\n",
    "for i in range(n,-1,-1):\n",
    "    x-=1\n",
    "    for j in range(k,0,-1):\n",
    "        print(end=\" \")\n",
    "    k=k+1\n",
    "    for j in range(0,i+1):\n",
    "        print(x,end=\" \")\n",
    "    print(\"\\r\")"
   ]
  },
  {
   "cell_type": "code",
   "execution_count": 103,
   "metadata": {},
   "outputs": [
    {
     "name": "stdout",
     "output_type": "stream",
     "text": [
      "          10\r\n",
      "         1010\r\n",
      "        101010\r\n",
      "       10101010\r\n",
      "      1010101010\r\n",
      "     101010101010\r\n"
     ]
    }
   ],
   "source": [
    "k = 2 * n - 2\n",
    "for i in range(0, n):\n",
    "    for j in range(0, k):\n",
    "        print(end=\" \")\n",
    "    k = k - 1\n",
    "    for j in range(0, i + 1):\n",
    "        print('10', end=\"\")\n",
    "    print(\"\\r\")"
   ]
  },
  {
   "cell_type": "code",
   "execution_count": 104,
   "metadata": {},
   "outputs": [
    {
     "name": "stdout",
     "output_type": "stream",
     "text": [
      "A \r\n",
      "B B \r\n",
      "C C C \r\n",
      "D D D D \r\n",
      "E E E E E \r\n",
      "F F F F F F \r\n"
     ]
    }
   ],
   "source": [
    "x = 65\n",
    "for i in range(0, n):\n",
    "    ch = chr(x)\n",
    "    x += 1\n",
    "    for j in range(0, i + 1):\n",
    "        print(ch, end=\" \")\n",
    "    print(\"\\r\")"
   ]
  },
  {
   "cell_type": "code",
   "execution_count": 107,
   "metadata": {},
   "outputs": [
    {
     "name": "stdout",
     "output_type": "stream",
     "text": [
      "          A \r\n",
      "         B C \r\n",
      "        D E F \r\n",
      "       G H I J \r\n",
      "      K L M N O \r\n",
      "     P Q R S T U \r\n"
     ]
    }
   ],
   "source": [
    "x = 65\n",
    "k = 2*n-2\n",
    "for i in range(0, n):\n",
    "    for j in range(0,k):\n",
    "        print(end=\" \")\n",
    "    k=k-1\n",
    "    for j in range(0, i + 1):\n",
    "        ch = chr(x)\n",
    "        print(ch, end=\" \")\n",
    "        x += 1\n",
    "    print(\"\\r\")"
   ]
  },
  {
   "cell_type": "code",
   "execution_count": 108,
   "metadata": {},
   "outputs": [
    {
     "name": "stdout",
     "output_type": "stream",
     "text": [
      "A \r\n",
      "B C \r\n",
      "D E F \r\n",
      "G H I J \r\n",
      "K L M N O \r\n",
      "P Q R S T U \r\n"
     ]
    }
   ],
   "source": [
    "x = 65\n",
    "k = 2*n-2\n",
    "for i in range(0, n):\n",
    "    for j in range(0,k):\n",
    "        print(end=\"\")\n",
    "    k=k-1\n",
    "    for j in range(0, i + 1):\n",
    "        ch = chr(x)\n",
    "        print(ch, end=\" \")\n",
    "        x += 1\n",
    "    print(\"\\r\")"
   ]
  },
  {
   "cell_type": "code",
   "execution_count": 115,
   "metadata": {},
   "outputs": [
    {
     "name": "stdout",
     "output_type": "stream",
     "text": [
      "        A \r\n",
      "       A B \r\n",
      "      A B C \r\n",
      "     A B C D \r\n",
      "    A B C D E \r\n",
      "   A B C D E F \r\n",
      "    G H I J K \r\n",
      "     L M N O \r\n",
      "      P Q R \r\n",
      "       S T \r\n",
      "        U \r\n"
     ]
    }
   ],
   "source": [
    "n=5\n",
    "k =2*n-2\n",
    "\n",
    "for i in range(0,n):\n",
    "    \n",
    "    for j in range(0,k):\n",
    "        print(end=\" \")\n",
    "    k=k-1\n",
    "    x=65\n",
    "    for j in range(0,i+1):\n",
    "        ch = chr(x)\n",
    "        print(ch,end=\" \")\n",
    "        x+=1\n",
    "    print(\"\\r\")\n",
    "k=n-2\n",
    "x=65\n",
    "for i in range(n,-1,-1):\n",
    "    for j in range(k,0,-1):\n",
    "        print(end=\" \")\n",
    "    k=k+1\n",
    "    for j in range(0,i+1):\n",
    "        ch = chr(x)\n",
    "        print(ch,end=\" \")\n",
    "        x+=1\n",
    "    print(\"\\r\")"
   ]
  },
  {
   "cell_type": "code",
   "execution_count": 138,
   "metadata": {},
   "outputs": [
    {
     "name": "stdout",
     "output_type": "stream",
     "text": [
      "1 \n",
      "1 1 \n",
      "1 2 1 \n",
      "1 3 3 1 \n",
      "1 4 6 4 1 \n",
      "1 5 10 10 5 1 \n"
     ]
    }
   ],
   "source": [
    "n=6\n",
    "\n",
    "for i in range(0, n):\n",
    "    print(end=\"\")\n",
    "    for j in range(0, i + 1):\n",
    "        res = 1\n",
    "        if (j > i - j):\n",
    "            j = i - j\n",
    "        for l in range(0, j):\n",
    "                res = res * (i - l)\n",
    "                res = res // (l + 1)\n",
    "        print(res,\" \", end=\"\")\n",
    "    print()\n",
    "\n"
   ]
  },
  {
   "cell_type": "code",
   "execution_count": 139,
   "metadata": {},
   "outputs": [
    {
     "name": "stdout",
     "output_type": "stream",
     "text": [
      " *  *  *  * \n",
      " *  *  *  * \n",
      " *  *  *  * \n",
      " *  *  *  * \n",
      " *  *  *  * \n",
      " *  *  *  * \n"
     ]
    }
   ],
   "source": [
    "a=6\n",
    "b=4\n",
    "for x in range(0, a):\n",
    "    for y in range(0, b):\n",
    "        print(' * ', end='')\n",
    "    print('')"
   ]
  },
  {
   "cell_type": "code",
   "execution_count": 141,
   "metadata": {},
   "outputs": [
    {
     "name": "stdout",
     "output_type": "stream",
     "text": [
      "     1 \n",
      "    1 1 \n",
      "   1 2 1 \n",
      "  1 3 3 1 \n",
      " 1 4 6 4 1 \n",
      "1 5 10 10 5 1 \n"
     ]
    }
   ],
   "source": [
    "rows =6\n",
    "coef = 1\n",
    "\n",
    "for i in range(1, rows+1):\n",
    "    for space in range(1, rows-i+1):\n",
    "        print(\" \",end=\"\")\n",
    "    for j in range(0, i):\n",
    "        if j==0 or i==0:\n",
    "            coef = 1\n",
    "        else:\n",
    "            coef = coef * (i - j)//j\n",
    "        print(coef, end = \" \")\n",
    "\n",
    "        print()"
   ]
  },
  {
   "cell_type": "code",
   "execution_count": 146,
   "metadata": {},
   "outputs": [
    {
     "name": "stdout",
     "output_type": "stream",
     "text": [
      "*           *           * \n",
      "  *         *         *   \n",
      "    *       *       *     \n",
      "      *     *     *       \n",
      "        *   *   *         \n",
      "          * * *           \n",
      "            *             \n",
      "          * * *           \n",
      "        *   *   *         \n",
      "      *     *     *       \n",
      "    *       *       *     \n",
      "  *         *         *   \n",
      "*           *           * \n"
     ]
    }
   ],
   "source": [
    "n=7\n",
    "for i in range(1,2*n):\n",
    "    for j in range(1,2*n):\n",
    "        if j==n or i==j or i+j==2*n:\n",
    "            print('*', end=' ')\n",
    "        else:\n",
    "            print(' ', end=' ')\n",
    "    print()"
   ]
  },
  {
   "cell_type": "code",
   "execution_count": 148,
   "metadata": {},
   "outputs": [
    {
     "name": "stdout",
     "output_type": "stream",
     "text": [
      "* \n",
      "* * \n",
      "* * * \n",
      "* * * * \n",
      "* * * * * \n",
      "* * * * * * \n",
      "* * * * * * * \n",
      "* * * * * * * * \n",
      "* \n",
      "* * \n",
      "* * * \n",
      "* * * * \n",
      "* * * * * \n",
      "* * * * * * \n",
      "* * * * * * * \n",
      "* * * * * * * * \n",
      "*\n",
      "*\n",
      "*\n",
      "*\n",
      "*\n",
      "*\n",
      "*\n",
      "*\n"
     ]
    }
   ],
   "source": [
    "n=8\n",
    "for i in range(n):\n",
    "    for k in range(i+1):\n",
    "        print('*',end=' ')\n",
    "    print()\n",
    "for i in range(n):\n",
    "    for k in range(i+1):\n",
    "        print('*',end=' ')\n",
    "    print()\n",
    "for i in range(n):\n",
    "    print('*')"
   ]
  },
  {
   "cell_type": "code",
   "execution_count": 150,
   "metadata": {},
   "outputs": [
    {
     "name": "stdout",
     "output_type": "stream",
     "text": [
      "              * \n",
      "            * * * \n",
      "          * * * * * \n",
      "        * * * * * * * \n",
      "      * * * * * * * * * \n",
      "    * * * * * * * * * * * \n",
      "  * * * * * * * * * * * * * \n",
      "              * \n",
      "            * * * \n",
      "          * * * * * \n",
      "        * * * * * * * \n",
      "      * * * * * * * * * \n",
      "    * * * * * * * * * * * \n",
      "  * * * * * * * * * * * * * \n",
      "            * * *\n",
      "            * * *\n",
      "            * * *\n",
      "            * * *\n",
      "            * * *\n",
      "            * * *\n",
      "            * * *\n"
     ]
    }
   ],
   "source": [
    "n=7\n",
    "def first_tree(n):\n",
    "    for i in range(n):\n",
    "        for j in range(n-i):\n",
    "            print(' ', end=' ')\n",
    "        for k in range(2*i+1):\n",
    "            print('*',end=' ')\n",
    "        print()\n",
    "\n",
    "first_tree(n)\n",
    "first_tree(n)\n",
    "for i in range(n):\n",
    "        for j in range(n-1):\n",
    "            print(' ', end=' ')\n",
    "        print('* * *')"
   ]
  },
  {
   "cell_type": "code",
   "execution_count": 155,
   "metadata": {},
   "outputs": [
    {
     "name": "stdout",
     "output_type": "stream",
     "text": [
      "        *         \n",
      "        *         \n",
      "        *         \n",
      "        *         \n",
      "* * * * * * * * * \n",
      "        *         \n",
      "        *         \n",
      "        *         \n",
      "        *         \n"
     ]
    }
   ],
   "source": [
    "n=5\n",
    "for i in range(1,2*n):\n",
    "    for j in range(1,2*n):\n",
    "        if i==n or j==n:\n",
    "            print('* ', end='')\n",
    "        else:\n",
    "            print(' ', end=' ')\n",
    "    print()"
   ]
  },
  {
   "cell_type": "code",
   "execution_count": 156,
   "metadata": {},
   "outputs": [
    {
     "name": "stdout",
     "output_type": "stream",
     "text": [
      "*         *\n",
      " *       * \n",
      "  *     *  \n",
      "   *   *   \n",
      "    * *    \n",
      "     *     \n",
      "    * *    \n",
      "   *   *   \n",
      "  *     *  \n",
      " *       * \n",
      "*         *\n"
     ]
    }
   ],
   "source": [
    "n=6\n",
    "for i in range(1,2*n):\n",
    "    for j in range(1,2*n):\n",
    "        if i==j or i+j==2*n:\n",
    "            print('*', end='')\n",
    "        else:\n",
    "            print(' ', end='')\n",
    "    print()"
   ]
  },
  {
   "cell_type": "code",
   "execution_count": 158,
   "metadata": {},
   "outputs": [
    {
     "name": "stdout",
     "output_type": "stream",
     "text": [
      "*             * \n",
      "* *         * * \n",
      "* * *     * * * \n",
      "* * * * * * * * \n",
      "* * * * * * * * \n",
      "* * *     * * * \n",
      "* *         * * \n",
      "*             * \n"
     ]
    }
   ],
   "source": [
    "row=8\n",
    "n =row//2\n",
    "for i in range(1,n+1):\n",
    "    for j in range(1, 2*n+1):\n",
    "        if j>i and j< 2*n+1-i:\n",
    "            print(\"  \", end=\"\")\n",
    "        else:\n",
    "            print(\"* \", end=\"\")\n",
    "    print()\n",
    "    \n",
    "for i in range(n,0,-1):\n",
    "    for j in range(2*n,0,-1):\n",
    "        if j>i and j< 2*n+1-i:\n",
    "            print(\"  \", end=\"\")\n",
    "        else:\n",
    "            print(\"* \", end=\"\")\n",
    "    print()"
   ]
  },
  {
   "cell_type": "code",
   "execution_count": 167,
   "metadata": {},
   "outputs": [
    {
     "name": "stdout",
     "output_type": "stream",
     "text": [
      "***********\n",
      " *       *\n",
      "  *     *\n",
      "   *   *\n",
      "    * *\n",
      "     *\n",
      "    * *\n",
      "   *   *\n",
      "  *     *\n",
      " *       *\n",
      "***********\n"
     ]
    }
   ],
   "source": [
    "row=6\n",
    "for i in range(row, 0, -1):\n",
    "    for j in range(row-i):\n",
    "        print(\" \", end=\"\")\n",
    "    for j in range(1, 2*i):\n",
    "        if i==1 or i==row or j==1 or j==2*i-1:\n",
    "            print(\"*\", end=\"\")\n",
    "        else:\n",
    "            print(\" \", end=\"\")\n",
    "    print()\n"
   ]
  },
  {
   "cell_type": "code",
   "execution_count": null,
   "metadata": {},
   "outputs": [],
   "source": []
  }
 ],
 "metadata": {
  "kernelspec": {
   "display_name": "Python 3",
   "language": "python",
   "name": "python3"
  },
  "language_info": {
   "codemirror_mode": {
    "name": "ipython",
    "version": 3
   },
   "file_extension": ".py",
   "mimetype": "text/x-python",
   "name": "python",
   "nbconvert_exporter": "python",
   "pygments_lexer": "ipython3",
   "version": "3.8.5"
  }
 },
 "nbformat": 4,
 "nbformat_minor": 4
}
