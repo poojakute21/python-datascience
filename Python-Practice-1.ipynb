{
 "cells": [
  {
   "cell_type": "code",
   "execution_count": 2,
   "metadata": {},
   "outputs": [
    {
     "name": "stdout",
     "output_type": "stream",
     "text": [
      "2401\n"
     ]
    }
   ],
   "source": [
    "#What is 7 Raise to the power 4 \n",
    "x= 7 ** 4 \n",
    "print(x)"
   ]
  },
  {
   "cell_type": "code",
   "execution_count": 8,
   "metadata": {},
   "outputs": [
    {
     "name": "stdout",
     "output_type": "stream",
     "text": [
      "the diameter of Earth is 12734\n"
     ]
    }
   ],
   "source": [
    "#use the format() to print the message: the diameter of Earth is 12734\n",
    "planet='Earth'\n",
    "\n",
    "diameter=12734\n",
    "\n",
    "print(\"the diameter of {0} is {1}\".format(planet, diameter))"
   ]
  },
  {
   "cell_type": "code",
   "execution_count": 11,
   "metadata": {},
   "outputs": [
    {
     "name": "stdout",
     "output_type": "stream",
     "text": [
      "['Hi', 'there', 'Sam!']\n"
     ]
    }
   ],
   "source": [
    "#Split this string into list\n",
    "s = \"Hi there Sam!\"\n",
    "print(s.split())"
   ]
  },
  {
   "cell_type": "code",
   "execution_count": 17,
   "metadata": {},
   "outputs": [
    {
     "name": "stdout",
     "output_type": "stream",
     "text": [
      "hello\n",
      "hello\n"
     ]
    }
   ],
   "source": [
    "#Given this nested list, use indexing to grab the word \"hello\n",
    "lst = [1,2,[3,4],[5,[100,200,['hello']],23,11],1,7]\n",
    "print (lst[3][1][2][0])\n",
    "print (lst[-3][-3][-1])"
   ]
  },
  {
   "cell_type": "code",
   "execution_count": 28,
   "metadata": {},
   "outputs": [
    {
     "name": "stdout",
     "output_type": "stream",
     "text": [
      "hello\n"
     ]
    }
   ],
   "source": [
    "#Given this nested dictionary , use indexing to grab the word \"hello\n",
    "d = {'k1':[1,2,3,{'tricky':['oh','man','inception',{'target':[1,2,3,'hello']}]}]}\n",
    "print (d['k1'][3]['tricky'][3]['target'][3])"
   ]
  },
  {
   "cell_type": "code",
   "execution_count": 40,
   "metadata": {},
   "outputs": [
    {
     "name": "stdout",
     "output_type": "stream",
     "text": [
      "Einstein.A\n",
      "Curie.M\n",
      "Newton.I\n"
     ]
    }
   ],
   "source": [
    "# String Manipulation to print data like Einstein.A\n",
    "Greatest=\"Albert Einstein,Marie Curie,Issac Newton\"\n",
    "Greatest= Greatest.split(',')\n",
    "for i in Greatest:\n",
    "    temp = i.split()\n",
    "    output = temp[1] +'.'+temp[0][0]\n",
    "    print(output)    "
   ]
  },
  {
   "cell_type": "code",
   "execution_count": 59,
   "metadata": {},
   "outputs": [
    {
     "name": "stdout",
     "output_type": "stream",
     "text": [
      "E\n",
      "a\n",
      "e\n",
      "o\n",
      "e\n",
      "o\n",
      "o\n",
      "i\n",
      "i\n"
     ]
    }
   ],
   "source": [
    "#Extract Vowels from the string\n",
    "msg=\"Extract the vowels@123 only from this ( string )\"\n",
    "vowels =  ('a', 'e', 'i', 'o', 'u');\n",
    "for i in msg:\n",
    "    if i.lower() in vowels:\n",
    "       print(i)"
   ]
  },
  {
   "cell_type": "code",
   "execution_count": 90,
   "metadata": {},
   "outputs": [
    {
     "name": "stdout",
     "output_type": "stream",
     "text": [
      "['pen', 'paper', 'CD', 'DVD', 'Casette']\n",
      "['pen', 'paper', 'CD', 'DVD', 'Casette']\n"
     ]
    }
   ],
   "source": [
    "#remove the duplicates from the shopping_cart\n",
    "shopping_cart =['pen','paper','pen','CD','paper','DVD','Casette','pen']\n",
    "unique = []\n",
    "for i in shopping_cart:\n",
    "    if i not in unique:\n",
    "        unique.append(i)\n",
    "        \n",
    "print(unique)\n",
    "unique1 =[]\n",
    "\n",
    "[unique1.append(i) for i in shopping_cart  if i not in unique1]\n",
    "print(unique1)"
   ]
  },
  {
   "cell_type": "code",
   "execution_count": 112,
   "metadata": {},
   "outputs": [
    {
     "name": "stdout",
     "output_type": "stream",
     "text": [
      "Enter a Number between 1-203\n",
      "Your choice is too low\n",
      "Enter a Number between 1-203\n",
      "Your choice is too low\n",
      "Enter a Number between 1-203\n",
      "Your choice is too low\n",
      "Enter a Number between 1-204\n",
      "Your choice is too low\n",
      "Enter a Number between 1-205\n",
      "Your choice is too low\n",
      "Enter a Number between 1-205\n",
      "Your choice is too low\n",
      "a oh ! you have exhaused all your attempts\n"
     ]
    }
   ],
   "source": [
    "\n",
    "## Guess the Number\n",
    "\n",
    "# 2 Players\n",
    "\n",
    "# computerChoice : generate a random number between 1-20\n",
    "# playerChoice : ask the user to enter a number between 1-20\n",
    "\n",
    "# if the playerChoice is greater then computerChoice:\n",
    "    # display \"your choice is too high\"\n",
    "    \n",
    "# if the playerChoice is lesser then computerChoice:\n",
    "    # display your choice is too low\n",
    "    \n",
    "# if the playerChoice and  computerChoice matches:\n",
    "    # display: \"Gotcha! you guessed  it right\"\n",
    "    \n",
    "#please note: a user can attempt a max of 6 guesses after 6 gusses\n",
    "    # display \"a oh ! you have exhaused all your attempts\"\n",
    "import random\n",
    "from random import randint\n",
    "computerChoice = random.randint(1, 20)\n",
    "for x in range(6):\n",
    "    playerChoice = int(input('Enter a Number between 1-20'))\n",
    "    if(playerChoice > computerChoice ):\n",
    "        print(\"Your choice is too high\")     \n",
    "    elif(playerChoice < computerChoice ):\n",
    "        print(\"Your choice is too low\")    \n",
    "    elif(playerChoice == computerChoice):\n",
    "        print(\"Gotcha! you guessed  it right\")\n",
    "        break\n",
    "else:\n",
    "    print(\"a oh ! you have exhaused all your attempts\")\n"
   ]
  },
  {
   "cell_type": "code",
   "execution_count": 114,
   "metadata": {},
   "outputs": [
    {
     "name": "stdout",
     "output_type": "stream",
     "text": [
      "294\n",
      "73.5\n"
     ]
    }
   ],
   "source": [
    "#Given a string, return the sum and average of the digits that appear in the string, ignoring all other characters Given:\n",
    "str1 = \"English = 78 Science = 83 Math = 68 History = 65\"\n",
    "str2 = str1.split()\n",
    "sum1 = 0\n",
    "count =0\n",
    "avg = 0\n",
    "for i in str2:\n",
    "    if i in str2:\n",
    "        if(i.isnumeric() == True):\n",
    "            sum1 = sum1 + int(i)\n",
    "            count +=1\n",
    "avg = sum1/count\n",
    "print(sum1)\n",
    "print(avg)"
   ]
  },
  {
   "cell_type": "code",
   "execution_count": 115,
   "metadata": {},
   "outputs": [
    {
     "data": {
      "text/plain": [
       "'C'"
      ]
     },
     "execution_count": 115,
     "metadata": {},
     "output_type": "execute_result"
    }
   ],
   "source": [
    "#Cup Swapping\n",
    "#There are three cups on a table, at positions A, B and C. At the start, there is a ball hidden under the cup at position B.\n",
    "#However, I perform a number of swaps on the cups, which is notated as two letters. For example, if I swap the cups at positions A and B, I could notate this as AB or BA.\n",
    "#Create a function which returns the letter position that the ball is at, once I finish swapping the cups. The swaps will be given to you as a list.\n",
    "#Worked Example cup_swapping(['AB', 'CA', 'AB']) ➞ 'C'\n",
    "#Ball begins at position B. Cups A and B swap, so ball is at position A. Cups C and A swap, so ball is at position C. Cups A and B swap, but the ball is at position C, so it doesn't move. Examples cup_swapping(['AB', 'CA']) ➞ 'C'\n",
    "#cup_swapping(['AC', 'CA', 'CA', 'AC']) ➞ 'B'\n",
    "#cup_swapping(['BA', 'AC', 'CA', 'BC']) ➞ 'A'\n",
    "\n",
    "def cup_swapping(swap):\n",
    "    ballPos='B'\n",
    "    \n",
    "    for step in swap:\n",
    "        if step[0]==ballPos:\n",
    "            ballPos=step[1]\n",
    "        elif step[1]==ballPos:\n",
    "            ballPos=step[0]\n",
    "            \n",
    "    return ballPos\n",
    "\n",
    "cup_swapping(['AB', 'CA', 'AB']) \n",
    "    \n"
   ]
  },
  {
   "cell_type": "code",
   "execution_count": null,
   "metadata": {},
   "outputs": [],
   "source": []
  }
 ],
 "metadata": {
  "kernelspec": {
   "display_name": "Python 3",
   "language": "python",
   "name": "python3"
  },
  "language_info": {
   "codemirror_mode": {
    "name": "ipython",
    "version": 3
   },
   "file_extension": ".py",
   "mimetype": "text/x-python",
   "name": "python",
   "nbconvert_exporter": "python",
   "pygments_lexer": "ipython3",
   "version": "3.8.5"
  }
 },
 "nbformat": 4,
 "nbformat_minor": 4
}
